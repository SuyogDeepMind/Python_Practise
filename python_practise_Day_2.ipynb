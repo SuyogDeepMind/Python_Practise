{
 "cells": [
  {
   "cell_type": "code",
   "execution_count": 1,
   "id": "1c77534b-3771-4df6-84d6-eeebbee1a418",
   "metadata": {},
   "outputs": [
    {
     "name": "stdout",
     "output_type": "stream",
     "text": [
      "1 2 3 4 5 6 7 8 9 10 "
     ]
    }
   ],
   "source": [
    "# Print numbers from 1 to 10 using a for loop.\n",
    "for i in range(1,11):\n",
    "    print(i,end=\" \")"
   ]
  },
  {
   "cell_type": "code",
   "execution_count": 2,
   "id": "6898193b-446f-4a28-aa52-6dc7928c3c13",
   "metadata": {},
   "outputs": [
    {
     "name": "stdout",
     "output_type": "stream",
     "text": [
      "10 9 8 7 6 5 4 3 2 1 "
     ]
    }
   ],
   "source": [
    "# Print numbers from 10 to 1 using a for loop.\n",
    "for i in range(10,0,-1):\n",
    "    print(i,end=\" \")"
   ]
  },
  {
   "cell_type": "code",
   "execution_count": 3,
   "id": "7123ef9f-a0bc-43b7-b879-8c8dfe769b84",
   "metadata": {},
   "outputs": [
    {
     "name": "stdout",
     "output_type": "stream",
     "text": [
      "2 4 6 8 10 12 14 16 18 20 22 24 26 28 30 32 34 36 38 40 42 44 46 48 50 "
     ]
    }
   ],
   "source": [
    "# Print even numbers between 1 and 50.\n",
    "for i in range(1,51):\n",
    "    if i%2 == 0:\n",
    "        print(i,end=\" \")"
   ]
  },
  {
   "cell_type": "code",
   "execution_count": 4,
   "id": "94a40510-266c-43fc-8ca1-e7473b0e1a77",
   "metadata": {},
   "outputs": [
    {
     "name": "stdout",
     "output_type": "stream",
     "text": [
      "1 3 5 7 9 11 13 15 17 19 21 23 25 27 29 31 33 35 37 39 41 43 45 47 49 "
     ]
    }
   ],
   "source": [
    "# Print odd numbers between 1 and 50.\n",
    "for i in range(1,51):\n",
    "    if i%2 == 1:\n",
    "        print(i,end=\" \")"
   ]
  },
  {
   "cell_type": "code",
   "execution_count": 5,
   "id": "97d138ae-bcd3-4913-993e-1187a2c29449",
   "metadata": {},
   "outputs": [
    {
     "name": "stdout",
     "output_type": "stream",
     "text": [
      "1 4 9 16 25 36 49 64 81 100 "
     ]
    }
   ],
   "source": [
    "# Print the squares of numbers from 1 to 10.\n",
    "for i in range(1,11):\n",
    "    print(i*i,end=\" \")"
   ]
  },
  {
   "cell_type": "code",
   "execution_count": 6,
   "id": "55c3dbd4-4c2e-4ae1-a14a-0391ca72d2d0",
   "metadata": {},
   "outputs": [
    {
     "name": "stdout",
     "output_type": "stream",
     "text": [
      "1 8 27 64 125 216 343 512 729 1000 "
     ]
    }
   ],
   "source": [
    "# Print the cubes of numbers from 1 to 10.\n",
    "for i in range(1,11):\n",
    "    print(i ** 3,end=\" \")"
   ]
  },
  {
   "cell_type": "code",
   "execution_count": 7,
   "id": "82efa8b0-0c48-4599-bdca-1236dd4f5bf7",
   "metadata": {},
   "outputs": [
    {
     "name": "stdout",
     "output_type": "stream",
     "text": [
      "5 10 15 20 25 30 35 40 45 50 "
     ]
    }
   ],
   "source": [
    "# Print the multiplication table of 5.\n",
    "for i in range(1,11):\n",
    "    print(5*i,end = \" \")"
   ]
  },
  {
   "cell_type": "code",
   "execution_count": 8,
   "id": "3b37e311-7f16-498b-bdd7-191a41035474",
   "metadata": {},
   "outputs": [
    {
     "name": "stdin",
     "output_type": "stream",
     "text": [
      "Enter the number :  5\n"
     ]
    },
    {
     "name": "stdout",
     "output_type": "stream",
     "text": [
      "5 10 15 20 25 30 35 40 45 50 "
     ]
    }
   ],
   "source": [
    "# Print the multiplication table of a user-input number\n",
    "num = int(input(\"Enter the number : \"))\n",
    "for i in range(1,11):\n",
    "    print(num*i,end=\" \")"
   ]
  },
  {
   "cell_type": "code",
   "execution_count": 10,
   "id": "a6e44a93-428c-46f0-975b-4f57f1de1c6b",
   "metadata": {},
   "outputs": [
    {
     "name": "stdout",
     "output_type": "stream",
     "text": [
      "3 6 9 12 15 18 21 24 27 30 33 36 39 42 45 48 51 54 57 60 63 66 69 72 75 78 81 84 87 90 93 96 99 "
     ]
    }
   ],
   "source": [
    "# Print numbers from 1 to 100 that are multiples of 3.\n",
    "for i in range(1,101):\n",
    "    if i%3 == 0:\n",
    "        print(i,end =\" \")"
   ]
  },
  {
   "cell_type": "code",
   "execution_count": 11,
   "id": "65275044-7f45-430f-acef-6d6d89070aa2",
   "metadata": {},
   "outputs": [
    {
     "name": "stdout",
     "output_type": "stream",
     "text": [
      "5 10 15 20 25 30 35 40 45 50 55 60 65 70 75 80 85 90 95 100 "
     ]
    }
   ],
   "source": [
    "# Print numbers from 1 to 100 that are multiples of 5.\n",
    "for i in range(1,101):\n",
    "    if i%5 == 0:\n",
    "        print(i,end =\" \")"
   ]
  },
  {
   "cell_type": "code",
   "execution_count": 13,
   "id": "f2933016-49a4-4cdd-a432-07e9256b30c2",
   "metadata": {},
   "outputs": [
    {
     "name": "stdout",
     "output_type": "stream",
     "text": [
      "5050\n"
     ]
    }
   ],
   "source": [
    "# Find the sum of numbers from 1 to 100.\n",
    "Sum = 0\n",
    "for i in range(1,101):\n",
    "    Sum+=i\n",
    "print(Sum)"
   ]
  },
  {
   "cell_type": "code",
   "execution_count": 14,
   "id": "2c4f3b03-fa50-4568-92e8-8c51fec6b202",
   "metadata": {},
   "outputs": [
    {
     "name": "stdout",
     "output_type": "stream",
     "text": [
      "2550\n"
     ]
    }
   ],
   "source": [
    "# Find the sum of even numbers from 1 to 100.\n",
    "Sum = 0\n",
    "for i in range(1,101):\n",
    "    if i%2 == 0:\n",
    "        Sum+=i\n",
    "print(Sum)"
   ]
  },
  {
   "cell_type": "code",
   "execution_count": 16,
   "id": "d52c1292-fc7a-469e-98f2-970420297057",
   "metadata": {},
   "outputs": [
    {
     "name": "stdout",
     "output_type": "stream",
     "text": [
      "2500\n"
     ]
    }
   ],
   "source": [
    "# find the sum of odd numbers from 1 to 100.\n",
    "Sum = 0\n",
    "for i in range(1,101):\n",
    "    if i%2 == 1:\n",
    "        Sum+=i\n",
    "print(Sum)"
   ]
  },
  {
   "cell_type": "code",
   "execution_count": 19,
   "id": "0faa0b08-dfca-4412-ac10-e3e079d8c91f",
   "metadata": {},
   "outputs": [
    {
     "name": "stdout",
     "output_type": "stream",
     "text": [
      "720\n"
     ]
    }
   ],
   "source": [
    "# Calculate the factorial of a given number.\n",
    "num = 6\n",
    "fact = 1\n",
    "for i in range(1,num+1):\n",
    "    fact*=i\n",
    "print(fact)"
   ]
  },
  {
   "cell_type": "code",
   "execution_count": 20,
   "id": "1de6ff21-d511-4034-b339-58ec25803237",
   "metadata": {},
   "outputs": [
    {
     "name": "stdout",
     "output_type": "stream",
     "text": [
      "385\n"
     ]
    }
   ],
   "source": [
    "# Find the sum of squares of the first 10 natural numbers.\n",
    "Sum = 0\n",
    "for i in range(1,11):\n",
    "    Sum+= i*i\n",
    "print(Sum)"
   ]
  },
  {
   "cell_type": "code",
   "execution_count": 21,
   "id": "7ca504d2-4588-4d11-a263-093f5de202c2",
   "metadata": {},
   "outputs": [
    {
     "name": "stdout",
     "output_type": "stream",
     "text": [
      "3025\n"
     ]
    }
   ],
   "source": [
    "# Find the sum of cubes of the first 10 natural numbers.\n",
    "Sum = 0\n",
    "for i in range(1,11):\n",
    "    Sum+= i ** 3\n",
    "print(Sum)"
   ]
  },
  {
   "cell_type": "code",
   "execution_count": 23,
   "id": "7792023d-1f0c-4085-a759-74bd6c7dc74e",
   "metadata": {},
   "outputs": [
    {
     "name": "stdout",
     "output_type": "stream",
     "text": [
      "5\n"
     ]
    }
   ],
   "source": [
    "# Count the number of digits in a given number.\n",
    "num = 15345\n",
    "temp = num\n",
    "count = 0\n",
    "while(temp > 0):\n",
    "    temp = temp // 10\n",
    "    count+=1\n",
    "print(count)"
   ]
  },
  {
   "cell_type": "code",
   "execution_count": 25,
   "id": "02e778f0-d17d-463d-be36-c30b632eb13d",
   "metadata": {},
   "outputs": [
    {
     "name": "stdout",
     "output_type": "stream",
     "text": [
      "13\n"
     ]
    }
   ],
   "source": [
    "# Find the sum of digits of a given number.\n",
    "num = 1534\n",
    "temp = num\n",
    "Sum = 0\n",
    "while(temp > 0):\n",
    "    digit = temp % 10\n",
    "    Sum+= digit\n",
    "    temp = temp // 10\n",
    "print(Sum)"
   ]
  },
  {
   "cell_type": "code",
   "execution_count": 27,
   "id": "b7d414c8-87b4-4708-99fb-684c4384d906",
   "metadata": {},
   "outputs": [
    {
     "name": "stdout",
     "output_type": "stream",
     "text": [
      "60\n"
     ]
    }
   ],
   "source": [
    "# Find the product of digits of a number.\n",
    "num = 1534\n",
    "temp = num\n",
    "prod = 1\n",
    "while(temp > 0):\n",
    "    digit = temp % 10\n",
    "    prod*= digit\n",
    "    temp = temp // 10\n",
    "print(prod)"
   ]
  },
  {
   "cell_type": "code",
   "execution_count": 29,
   "id": "4f8534d0-a234-4b91-a88f-505dad5f30da",
   "metadata": {},
   "outputs": [
    {
     "name": "stdout",
     "output_type": "stream",
     "text": [
      "4351\n"
     ]
    }
   ],
   "source": [
    "# Reverse a given number using a for loop.\n",
    "num = 1534\n",
    "temp = num\n",
    "rev = 0\n",
    "for i in range(len(str(num))):\n",
    "    digit = temp % 10\n",
    "    rev = rev*10 + digit\n",
    "    temp = temp // 10\n",
    "print(rev)"
   ]
  },
  {
   "cell_type": "code",
   "execution_count": 30,
   "id": "8083cdf5-ff3d-4a06-a66c-429de07d5271",
   "metadata": {},
   "outputs": [
    {
     "name": "stdout",
     "output_type": "stream",
     "text": [
      "*\n",
      "**\n",
      "***\n"
     ]
    }
   ],
   "source": [
    "# Print a right-angled triangle pattern of *.\n",
    "for i in range(1,4):\n",
    "    print(i * '*')"
   ]
  },
  {
   "cell_type": "code",
   "execution_count": 33,
   "id": "cc0a6f28-5e84-4064-a6c9-5e9e384dafc3",
   "metadata": {},
   "outputs": [
    {
     "name": "stdout",
     "output_type": "stream",
     "text": [
      "***\n",
      "**\n",
      "*\n"
     ]
    }
   ],
   "source": [
    "# Print an inverted right-angled triangle of *.\n",
    "for i in range(3,0,-1):\n",
    "    print(i * '*')"
   ]
  },
  {
   "cell_type": "code",
   "execution_count": 40,
   "id": "e20fb006-b64d-480f-b517-64f96be1d279",
   "metadata": {},
   "outputs": [
    {
     "name": "stdout",
     "output_type": "stream",
     "text": [
      "****\n",
      "****\n",
      "****\n",
      "****\n"
     ]
    }
   ],
   "source": [
    "# Print a square pattern of * of size n.\n",
    "for i in range(4):\n",
    "    for j in range(4):\n",
    "        print('*',end = \"\")\n",
    "    print()"
   ]
  },
  {
   "cell_type": "code",
   "execution_count": 41,
   "id": "a8783662-7bc2-4bb7-b563-4e3c4761a6e9",
   "metadata": {},
   "outputs": [
    {
     "name": "stdout",
     "output_type": "stream",
     "text": [
      "a\n",
      "b\n",
      "c\n",
      "d\n",
      "e\n"
     ]
    }
   ],
   "source": [
    "# Print each character of a string using a for loop.\n",
    "String = \"abcde\"\n",
    "for i in String:\n",
    "    print(i)"
   ]
  },
  {
   "cell_type": "code",
   "execution_count": 44,
   "id": "bd9920eb-3af7-45ba-8961-37e62f034bb0",
   "metadata": {},
   "outputs": [
    {
     "name": "stdout",
     "output_type": "stream",
     "text": [
      "3\n"
     ]
    }
   ],
   "source": [
    "# Count vowels in a string using a loop.\n",
    "String = \"abcdeSjfres\"\n",
    "count = 0\n",
    "for i in String:\n",
    "    if  i in \"aeiouAEIOU\":\n",
    "        count+=1\n",
    "print(count)"
   ]
  },
  {
   "cell_type": "code",
   "execution_count": 45,
   "id": "c7df4b07-68dd-4562-a827-4e224d1be64a",
   "metadata": {},
   "outputs": [
    {
     "name": "stdout",
     "output_type": "stream",
     "text": [
      "8\n"
     ]
    }
   ],
   "source": [
    "# Count consonants in a string.\n",
    "String = \"abcdeSjfres\"\n",
    "count = 0\n",
    "for i in String:\n",
    "    if  i not in \"aeiouAEIOU\":\n",
    "        count+=1\n",
    "print(count)"
   ]
  },
  {
   "cell_type": "code",
   "execution_count": 47,
   "id": "0bfa4917-d620-40d8-be84-e134cda4a45a",
   "metadata": {},
   "outputs": [
    {
     "name": "stdout",
     "output_type": "stream",
     "text": [
      "serfjSedcba\n"
     ]
    }
   ],
   "source": [
    "# Reverse a string using a loop.\n",
    "String = \"abcdeSjfres\"\n",
    "rev = \"\"\n",
    "for ch in String:\n",
    "    rev = ch + rev\n",
    "print(rev)"
   ]
  },
  {
   "cell_type": "code",
   "execution_count": 51,
   "id": "0c0c2f66-e1e9-4bb8-8609-59748e957455",
   "metadata": {},
   "outputs": [
    {
     "name": "stdout",
     "output_type": "stream",
     "text": [
      "5\n"
     ]
    }
   ],
   "source": [
    "# Count words in a sentence using a loop.\n",
    "String = \"hello my name is Suyog\"\n",
    "count = 1   # start with 1 word\n",
    "\n",
    "for i in String:\n",
    "    if i == \" \":   # whenever space found → new word\n",
    "        count += 1\n",
    "\n",
    "print(count)"
   ]
  },
  {
   "cell_type": "code",
   "execution_count": 53,
   "id": "6733d517-7214-4a3a-8bd4-7bc96a666839",
   "metadata": {},
   "outputs": [
    {
     "name": "stdout",
     "output_type": "stream",
     "text": [
      "1 2 3 4 5 "
     ]
    }
   ],
   "source": [
    "# Iterate through a list and print elements.\n",
    "List = [1,2,3,4,5]\n",
    "for i in List:\n",
    "    print(i,end=\" \")"
   ]
  },
  {
   "cell_type": "code",
   "execution_count": 54,
   "id": "cb0ee3e8-a048-4cb8-b134-562347e99cc7",
   "metadata": {},
   "outputs": [
    {
     "name": "stdout",
     "output_type": "stream",
     "text": [
      "6\n"
     ]
    }
   ],
   "source": [
    "# Find the maximum element in a list using a loop.\n",
    "List = [1,2,3,6,-7,4,5]\n",
    "max_element = max(List)\n",
    "print(max_element)"
   ]
  },
  {
   "cell_type": "code",
   "execution_count": 58,
   "id": "350633f3-3719-4e4b-b1f2-02e7ef5ab8f1",
   "metadata": {},
   "outputs": [
    {
     "name": "stdout",
     "output_type": "stream",
     "text": [
      "6\n"
     ]
    }
   ],
   "source": [
    "# # Find the maximum element in a list using a loop.\n",
    "List = [1,2,3,6,-7,4,5]\n",
    "max_ele = float('-inf')\n",
    "for i in List:\n",
    "    if i > max_ele:\n",
    "        max_ele = i\n",
    "print(max_ele)"
   ]
  },
  {
   "cell_type": "code",
   "execution_count": 61,
   "id": "a4eebc84-6a54-4dfe-8eb6-cb3d9e462a13",
   "metadata": {},
   "outputs": [
    {
     "name": "stdout",
     "output_type": "stream",
     "text": [
      "-2\n"
     ]
    }
   ],
   "source": [
    "# Find the minimum element in a list using a loop.\n",
    "List = [1,2,3,-1,4,5,-2]\n",
    "min_ele = List[0]\n",
    "for i in List:\n",
    "    if i < min_ele:\n",
    "        min_ele = i\n",
    "print(min_ele)"
   ]
  },
  {
   "cell_type": "code",
   "execution_count": 63,
   "id": "8d5b86fd-79b2-4ea9-9ab3-f78d24f4ed18",
   "metadata": {},
   "outputs": [
    {
     "name": "stdout",
     "output_type": "stream",
     "text": [
      "{1: 3, 2: 2, 3: 1, 4: 2, 5: 1}\n"
     ]
    }
   ],
   "source": [
    "# Count the frequency of each element in a list.\n",
    "List = [1,2,1,3,1,4,5,2,4]\n",
    "freq = {}\n",
    "for ch in List:\n",
    "    if ch in freq:\n",
    "        freq[ch]+=1\n",
    "    else:\n",
    "        freq[ch] = 1\n",
    "print(freq)"
   ]
  },
  {
   "cell_type": "code",
   "execution_count": 64,
   "id": "e381515e-70c9-42d7-9e50-85f0d96aa09f",
   "metadata": {},
   "outputs": [
    {
     "name": "stdout",
     "output_type": "stream",
     "text": [
      "5\n",
      "20\n"
     ]
    }
   ],
   "source": [
    "# Count uppercase and lowercase letters in a string.\n",
    "String = \"Hello Suyog, Welcome To Python!\"\n",
    "Upper = 0\n",
    "Lower = 0\n",
    "for ch in String:\n",
    "    if ch.isupper():\n",
    "        Upper+=1\n",
    "    elif ch.islower():\n",
    "        Lower+=1\n",
    "print(Upper)\n",
    "print(Lower)    "
   ]
  },
  {
   "cell_type": "code",
   "execution_count": 67,
   "id": "75d188d8-b498-4614-a2ab-cb9e90872b2c",
   "metadata": {},
   "outputs": [
    {
     "name": "stdout",
     "output_type": "stream",
     "text": [
      "prime\n"
     ]
    }
   ],
   "source": [
    "# Check if a number is prime using a for loop\n",
    "num = 37\n",
    "flag = True\n",
    "for i in range(2,37):\n",
    "    if num%i == 0:\n",
    "        flag = False\n",
    "        break\n",
    "if flag:\n",
    "    print(\"prime\")\n",
    "else:\n",
    "    print(\"not prime\")"
   ]
  },
  {
   "cell_type": "code",
   "execution_count": 69,
   "id": "f4a6cd6d-22d6-4dee-bc56-126cd0842453",
   "metadata": {},
   "outputs": [
    {
     "name": "stdin",
     "output_type": "stream",
     "text": [
      "Enter how many prime numbers you want:  5\n"
     ]
    },
    {
     "name": "stdout",
     "output_type": "stream",
     "text": [
      "2 3 5 7 11 "
     ]
    }
   ],
   "source": [
    "# Find the first n prime numbers using a loop.\n",
    "n = int(input(\"Enter how many prime numbers you want: \"))\n",
    "\n",
    "count = 0\n",
    "num = 2\n",
    "\n",
    "while count < n:\n",
    "    is_prime = True\n",
    "    for i in range(2, int(num**0.5) + 1):  # range() checks divisibility\n",
    "        if num % i == 0:\n",
    "            is_prime = False\n",
    "            break\n",
    "    if is_prime:\n",
    "        print(num, end=\" \")\n",
    "        count += 1\n",
    "    num += 1\n"
   ]
  },
  {
   "cell_type": "code",
   "execution_count": 70,
   "id": "e7c0a471-9335-487b-aee9-2fb3756ee792",
   "metadata": {},
   "outputs": [
    {
     "name": "stdout",
     "output_type": "stream",
     "text": [
      "1 2 3 4 5 6 7 8 9 11 22 33 44 55 66 77 88 99 101 111 121 131 141 151 161 171 181 191 202 212 222 232 242 252 262 272 282 292 303 313 323 333 343 353 363 373 383 393 404 414 424 434 444 454 464 474 484 494 "
     ]
    }
   ],
   "source": [
    "# Print all palindrome numbers between 1 and 500\n",
    "for i in range(1, 501):\n",
    "    num = i       # keep original number\n",
    "    rev = 0\n",
    "    temp = num\n",
    "\n",
    "    while temp > 0:\n",
    "        digit = temp % 10\n",
    "        rev = rev * 10 + digit\n",
    "        temp //= 10\n",
    "\n",
    "    if rev == num:\n",
    "        print(num, end=\" \")"
   ]
  },
  {
   "cell_type": "code",
   "execution_count": 72,
   "id": "2111a8d5-00db-47cc-8bb5-5b9a2032eb7f",
   "metadata": {},
   "outputs": [
    {
     "name": "stdout",
     "output_type": "stream",
     "text": [
      "1 153 370 371 407 "
     ]
    }
   ],
   "source": [
    "# Print all Armstrong numbers between 1 and 500.\n",
    "for i in range(1,501):\n",
    "    num = i\n",
    "    Sum = 0\n",
    "    while num>0:\n",
    "        digit = num%10\n",
    "        Sum+=digit ** 3\n",
    "        num = num // 10\n",
    "    if Sum == i:\n",
    "        print(i,end=\" \")"
   ]
  },
  {
   "cell_type": "code",
   "execution_count": 77,
   "id": "59297f6d-8e68-42a2-8595-a7793161b437",
   "metadata": {},
   "outputs": [
    {
     "name": "stdout",
     "output_type": "stream",
     "text": [
      "*\n",
      "**\n",
      "***\n",
      "****\n",
      "*****\n",
      "******\n",
      "\n",
      "*\n",
      "**\n",
      "***\n",
      "****\n",
      "*****\n",
      "******\n",
      "\n",
      "*\n",
      "**\n",
      "***\n",
      "****\n",
      "*****\n",
      "******\n",
      "\n",
      "*\n",
      "**\n",
      "***\n",
      "****\n",
      "*****\n",
      "******\n",
      "\n",
      "*\n",
      "**\n",
      "***\n",
      "****\n",
      "*****\n",
      "******\n",
      "\n",
      "*\n",
      "**\n",
      "***\n",
      "****\n",
      "*****\n",
      "******\n",
      "\n"
     ]
    }
   ],
   "source": [
    "# Print a pyramid pattern with *\n",
    "for i in range(1,7):\n",
    "    for j in range(1,7):\n",
    "        print(j *'*')\n",
    "    print()"
   ]
  }
 ],
 "metadata": {
  "kernelspec": {
   "display_name": "Python 3 (ipykernel)",
   "language": "python",
   "name": "python3"
  },
  "language_info": {
   "codemirror_mode": {
    "name": "ipython",
    "version": 3
   },
   "file_extension": ".py",
   "mimetype": "text/x-python",
   "name": "python",
   "nbconvert_exporter": "python",
   "pygments_lexer": "ipython3",
   "version": "3.12.10"
  }
 },
 "nbformat": 4,
 "nbformat_minor": 5
}
