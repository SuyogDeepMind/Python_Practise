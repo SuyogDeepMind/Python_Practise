{
 "cells": [
  {
   "cell_type": "code",
   "execution_count": 117,
   "id": "abc356fd-0ae1-46bd-a0de-d0ae1f9f08bc",
   "metadata": {},
   "outputs": [],
   "source": [
    "# Python Practise day 1 - 50 questions"
   ]
  },
  {
   "cell_type": "code",
   "execution_count": 12,
   "id": "374d6146-275c-4f27-87cf-13c51ebb1cd3",
   "metadata": {},
   "outputs": [
    {
     "name": "stdout",
     "output_type": "stream",
     "text": [
      "Hello, World!\n"
     ]
    }
   ],
   "source": [
    "# Print \"Hello, World!\" in Python.\n",
    "print(\"Hello, World!\")"
   ]
  },
  {
   "cell_type": "code",
   "execution_count": 13,
   "id": "33782104-efc6-4fca-be54-50f3517f570c",
   "metadata": {},
   "outputs": [
    {
     "name": "stdin",
     "output_type": "stream",
     "text": [
      "Enter first number :  4\n",
      "Enter second number :  5\n"
     ]
    },
    {
     "name": "stdout",
     "output_type": "stream",
     "text": [
      "9\n"
     ]
    }
   ],
   "source": [
    "# Take two numbers as input and print their sum.\n",
    "num1 = int(input(\"Enter first number : \"))\n",
    "num2 = int(input(\"Enter second number : \"))\n",
    "Sum = num1+num2\n",
    "print(Sum)"
   ]
  },
  {
   "cell_type": "code",
   "execution_count": 14,
   "id": "4fe5917d-cbe6-4db5-b1b3-c4b38b0db07d",
   "metadata": {},
   "outputs": [
    {
     "name": "stdin",
     "output_type": "stream",
     "text": [
      "Enter first number :  34\n",
      "Enter second number :  5\n"
     ]
    },
    {
     "name": "stdout",
     "output_type": "stream",
     "text": [
      "29\n",
      "170\n",
      "4\n"
     ]
    }
   ],
   "source": [
    "# Take two numbers as input and print their difference, product, and quotient.\n",
    "num1 = int(input(\"Enter first number : \"))\n",
    "num2 = int(input(\"Enter second number : \"))\n",
    "diff = num1 - num2\n",
    "product = num1*num2\n",
    "quotient = num1%num2\n",
    "print(diff)\n",
    "print(product)\n",
    "print(quotient)"
   ]
  },
  {
   "cell_type": "code",
   "execution_count": 15,
   "id": "0b4cad66-8e4c-4058-8c72-b1f255ccb3f4",
   "metadata": {},
   "outputs": [
    {
     "name": "stdout",
     "output_type": "stream",
     "text": [
      "10 20\n",
      "20 10\n"
     ]
    }
   ],
   "source": [
    "# Swap two numbers without using a third variable.\n",
    "a = 10\n",
    "b = 20\n",
    "print(a,b)\n",
    "a = a+b\n",
    "b = a-b\n",
    "a = a-b\n",
    "print(a,b)"
   ]
  },
  {
   "cell_type": "code",
   "execution_count": 16,
   "id": "d5a82ea2-0e71-4b01-a325-a9aa21f6b796",
   "metadata": {},
   "outputs": [
    {
     "name": "stdout",
     "output_type": "stream",
     "text": [
      "10 20\n",
      "20 10\n"
     ]
    }
   ],
   "source": [
    "# Swap two numbers using a third variable.\n",
    "a = 10\n",
    "b = 20\n",
    "print(a,b)\n",
    "temp = a\n",
    "a = b\n",
    "b = temp\n",
    "print(a,b)"
   ]
  },
  {
   "cell_type": "code",
   "execution_count": 17,
   "id": "d01f2b4c-c1c8-4d96-945e-b69da69d74c1",
   "metadata": {},
   "outputs": [
    {
     "name": "stdout",
     "output_type": "stream",
     "text": [
      "25\n",
      "125\n"
     ]
    }
   ],
   "source": [
    "# Find the square and cube of a given number.\n",
    "a = 5\n",
    "Square = a*a\n",
    "Cube = a*a*a\n",
    "print(Square)\n",
    "print(Cube)"
   ]
  },
  {
   "cell_type": "code",
   "execution_count": 18,
   "id": "912feae4-022d-4915-80ed-9c4e0b44a56d",
   "metadata": {},
   "outputs": [
    {
     "name": "stdout",
     "output_type": "stream",
     "text": [
      "2.23606797749979\n"
     ]
    }
   ],
   "source": [
    "# Find the square root of a given number.\n",
    "a = 5\n",
    "square_root = a ** 0.5\n",
    "print(square_root)"
   ]
  },
  {
   "cell_type": "code",
   "execution_count": 20,
   "id": "ddf68894-d71b-4c03-9f02-94782f822c9e",
   "metadata": {},
   "outputs": [
    {
     "name": "stdout",
     "output_type": "stream",
     "text": [
      "Odd\n"
     ]
    }
   ],
   "source": [
    "# Write a program to check whether a number is even or odd.\n",
    "num = 35\n",
    "if num%2 == 0:\n",
    "    print(\"Even\")\n",
    "else:\n",
    "    print(\"Odd\")"
   ]
  },
  {
   "cell_type": "code",
   "execution_count": 23,
   "id": "f892a4e3-48c9-46c6-ab82-a3ff2cc882ec",
   "metadata": {},
   "outputs": [
    {
     "name": "stdout",
     "output_type": "stream",
     "text": [
      "negative\n"
     ]
    }
   ],
   "source": [
    "# Write a program to check if a number is positive, negative, or zero.\n",
    "num = -2\n",
    "if num > 0:\n",
    "    print(\"positive\")\n",
    "elif num == 0:\n",
    "    print(\"zero\")\n",
    "else:\n",
    "    print(\"negative\")"
   ]
  },
  {
   "cell_type": "code",
   "execution_count": 24,
   "id": "29b7c7ac-033e-44d4-98ca-93263666a97c",
   "metadata": {},
   "outputs": [
    {
     "name": "stdin",
     "output_type": "stream",
     "text": [
      "Enter your name :  suyog\n",
      "Enter your age :  23\n"
     ]
    },
    {
     "name": "stdout",
     "output_type": "stream",
     "text": [
      "Hello suyog, you are 23 years old.\n"
     ]
    }
   ],
   "source": [
    "# Take a user’s name and age and print: \"Hello <name>, you are <age> years old.\"\n",
    "name = input(\"Enter your name : \")\n",
    "age = int(input(\"Enter your age : \"))\n",
    "print(f\"Hello {name}, you are {age} years old.\")"
   ]
  },
  {
   "cell_type": "code",
   "execution_count": 26,
   "id": "34fc8552-21f7-4c00-bfa4-3b2d8c484075",
   "metadata": {},
   "outputs": [
    {
     "name": "stdout",
     "output_type": "stream",
     "text": [
      "93.2\n"
     ]
    }
   ],
   "source": [
    "# Convert Celsius to Fahrenheit.\n",
    "temp = 34\n",
    "fah = 9/5*temp+32\n",
    "print(fah)"
   ]
  },
  {
   "cell_type": "code",
   "execution_count": 27,
   "id": "80dd3d99-6b03-4fbd-8e97-057ba3e01cd2",
   "metadata": {},
   "outputs": [
    {
     "name": "stdout",
     "output_type": "stream",
     "text": [
      "21.08\n"
     ]
    }
   ],
   "source": [
    "# Convert kilometers to miles.\n",
    "km = 34\n",
    "miles = 0.62*km\n",
    "print(miles)"
   ]
  },
  {
   "cell_type": "code",
   "execution_count": 28,
   "id": "219c27f7-f1ca-4de0-b885-d292efb2438e",
   "metadata": {},
   "outputs": [
    {
     "name": "stdin",
     "output_type": "stream",
     "text": [
      "Enter the radius :  4\n"
     ]
    },
    {
     "name": "stdout",
     "output_type": "stream",
     "text": [
      "50.24\n",
      "25.12\n"
     ]
    }
   ],
   "source": [
    "# Calculate the area and circumference of a circle.\n",
    "r = float(input(\"Enter the radius : \"))\n",
    "area = 3.14*r*4\n",
    "circumference = 2*3.14*r\n",
    "print(area)\n",
    "print(circumference)"
   ]
  },
  {
   "cell_type": "code",
   "execution_count": 29,
   "id": "dc3ac54b-a150-44e5-947a-6d1efed1e988",
   "metadata": {},
   "outputs": [
    {
     "name": "stdout",
     "output_type": "stream",
     "text": [
      "12\n"
     ]
    }
   ],
   "source": [
    "# Calculate the area of a rectangle.\n",
    "length = 3\n",
    "breadth = 4\n",
    "area = length*breadth\n",
    "print(area)"
   ]
  },
  {
   "cell_type": "code",
   "execution_count": 30,
   "id": "fe11cdf1-1e74-4d3e-b3ad-b7a55094f314",
   "metadata": {},
   "outputs": [
    {
     "name": "stdout",
     "output_type": "stream",
     "text": [
      "6.0\n"
     ]
    }
   ],
   "source": [
    "# Calculate the area of a triangle given base and height.\n",
    "base = 3\n",
    "height = 4\n",
    "area = 0.5*base*height\n",
    "print(area)"
   ]
  },
  {
   "cell_type": "code",
   "execution_count": 31,
   "id": "2ae423a2-c1cf-4322-ba54-8a06321a2e38",
   "metadata": {},
   "outputs": [
    {
     "name": "stdout",
     "output_type": "stream",
     "text": [
      "a is largest\n"
     ]
    }
   ],
   "source": [
    "# Find the largest of two numbers.\n",
    "a = 15\n",
    "b = 13\n",
    "if a>b:\n",
    "    print(\"a is largest\")\n",
    "else:\n",
    "    print(\"b is largest\")"
   ]
  },
  {
   "cell_type": "code",
   "execution_count": 32,
   "id": "133ee884-06f3-4da3-9276-f576aded0d24",
   "metadata": {},
   "outputs": [
    {
     "name": "stdout",
     "output_type": "stream",
     "text": [
      "c is largest\n"
     ]
    }
   ],
   "source": [
    "# Find the largest of three numbers.\n",
    "a = 15\n",
    "b = 32\n",
    "c = 34\n",
    "if a>b and a>c:\n",
    "    print(\"a is largest\")\n",
    "elif b>a and b>c:\n",
    "    print(\"b is largest\")\n",
    "else:\n",
    "    print(\"c is largest\")"
   ]
  },
  {
   "cell_type": "code",
   "execution_count": 34,
   "id": "f82d4900-4cab-49c9-83af-33feee2954bd",
   "metadata": {},
   "outputs": [
    {
     "name": "stdout",
     "output_type": "stream",
     "text": [
      "Leap year\n"
     ]
    }
   ],
   "source": [
    "# Check whether a year is a leap year.\n",
    "year = 2024\n",
    "if (year%400 == 0) or (year%4 == 0 and year%100 != 0):\n",
    "    print(\"Leap year\")\n",
    "else:\n",
    "    print(\"not a leap year\")"
   ]
  },
  {
   "cell_type": "code",
   "execution_count": 37,
   "id": "a5003e71-c022-4d5e-b511-a219ac5a1535",
   "metadata": {},
   "outputs": [
    {
     "name": "stdout",
     "output_type": "stream",
     "text": [
      "consonant\n"
     ]
    }
   ],
   "source": [
    "# Check whether a character is a vowel or consonant.\n",
    "char = \"f\"\n",
    "if char in \"aeiouAEIOU\":\n",
    "    print(\"Vowel\")\n",
    "else:\n",
    "    print(\"consonant\")"
   ]
  },
  {
   "cell_type": "code",
   "execution_count": 39,
   "id": "7dc71c59-584f-4bf9-afa4-e529e62ae7ed",
   "metadata": {},
   "outputs": [
    {
     "name": "stdout",
     "output_type": "stream",
     "text": [
      "not eligible\n"
     ]
    }
   ],
   "source": [
    "# Write a program to check if a person is eligible to vote (age ≥ 18).\n",
    "age = 13\n",
    "if age >= 18:\n",
    "    print(\"Eligible\")\n",
    "else:\n",
    "    print(\"not eligible\")"
   ]
  },
  {
   "cell_type": "code",
   "execution_count": 40,
   "id": "aab2d5b3-3910-49d7-8968-f9909cc6bb7f",
   "metadata": {},
   "outputs": [
    {
     "name": "stdout",
     "output_type": "stream",
     "text": [
      "yes\n"
     ]
    }
   ],
   "source": [
    "# Check if a number is divisible by 5 and 11.\n",
    "num = 55\n",
    "if num% 5 == 0 and num%11 == 0:\n",
    "    print(\"yes\")\n",
    "else:\n",
    "    print(\"no\")"
   ]
  },
  {
   "cell_type": "code",
   "execution_count": 44,
   "id": "7bf6e63e-f8d5-43a3-afcb-541ad20fb2de",
   "metadata": {},
   "outputs": [
    {
     "name": "stdout",
     "output_type": "stream",
     "text": [
      "not prime\n"
     ]
    }
   ],
   "source": [
    "# Check if a given number is prime or not.\n",
    "num = 111\n",
    "flag = True\n",
    "for i in range(2,num):\n",
    "    if num%i == 0:\n",
    "        flag = False\n",
    "        break\n",
    "if (flag):\n",
    "    print(\"Prime\")\n",
    "else:\n",
    "    print(\"not prime\")"
   ]
  },
  {
   "cell_type": "code",
   "execution_count": 51,
   "id": "900ec0fc-4f52-44f1-8825-50190edcbf0f",
   "metadata": {},
   "outputs": [
    {
     "name": "stdout",
     "output_type": "stream",
     "text": [
      "palindrome\n"
     ]
    }
   ],
   "source": [
    "# Check if a number is a palindrome or not.\n",
    "num = 121\n",
    "num1 = num\n",
    "rev = 0\n",
    "while(num!=0):\n",
    "    digit = num%10\n",
    "    rev = rev*10 + digit\n",
    "    num = num//10\n",
    "if rev == num1:\n",
    "    print(\"palindrome\")\n",
    "else:\n",
    "    print(\"not palindrome\")"
   ]
  },
  {
   "cell_type": "code",
   "execution_count": 57,
   "id": "4d51ef48-ab71-47aa-b238-e5a73f2ef9de",
   "metadata": {},
   "outputs": [
    {
     "name": "stdout",
     "output_type": "stream",
     "text": [
      "Armstrong\n"
     ]
    }
   ],
   "source": [
    "# Check if a number is Armstrong or not.\n",
    "num = 153\n",
    "temp = num\n",
    "sum_of_powers = 0\n",
    "digits = len(str(num))\n",
    "while(temp>0):\n",
    "    digit = temp%10\n",
    "    sum_of_powers+=digit ** digits\n",
    "    temp = temp//10\n",
    "if num == sum_of_powers:\n",
    "    print(\"Armstrong\")\n",
    "else:\n",
    "    print(\"not armstrong\")"
   ]
  },
  {
   "cell_type": "code",
   "execution_count": 58,
   "id": "9a7fa11a-87cb-4ae7-8369-a3cfc14358eb",
   "metadata": {},
   "outputs": [
    {
     "name": "stdout",
     "output_type": "stream",
     "text": [
      "1\n",
      "2\n",
      "3\n",
      "4\n",
      "5\n",
      "6\n",
      "7\n",
      "8\n",
      "9\n",
      "10\n"
     ]
    }
   ],
   "source": [
    "# Print numbers from 1 to 10.\n",
    "for i in range(1,11):\n",
    "    print(i)"
   ]
  },
  {
   "cell_type": "code",
   "execution_count": 60,
   "id": "c433f7ba-1c0f-4940-a0f7-072999eea198",
   "metadata": {},
   "outputs": [
    {
     "name": "stdout",
     "output_type": "stream",
     "text": [
      "1 2 3 4 5 6 7 8 9 10 11 12 13 14 15 16 17 18 19 20 21 22 23 24 25 26 27 28 29 30 31 32 33 34 35 36 37 38 39 40 41 42 43 44 45 46 47 48 49 50 "
     ]
    }
   ],
   "source": [
    "# Print even numbers between 1 and 50.\n",
    "for i in range(1,51):\n",
    "    print(i,end=\" \")"
   ]
  },
  {
   "cell_type": "code",
   "execution_count": 63,
   "id": "6a542bcc-33e7-44fa-8c08-6facb1b2f1e4",
   "metadata": {},
   "outputs": [
    {
     "name": "stdout",
     "output_type": "stream",
     "text": [
      "1 3 5 7 9 11 13 15 17 19 21 23 25 27 29 31 33 35 37 39 41 43 45 47 49 "
     ]
    }
   ],
   "source": [
    "# Print odd numbers between 1 and 50.\n",
    "for i in range(1,51):\n",
    "    if i%2!=0:\n",
    "        print(i,end=\" \")"
   ]
  },
  {
   "cell_type": "code",
   "execution_count": 64,
   "id": "4b681b9b-aaff-4643-a25d-f2262a8b1170",
   "metadata": {},
   "outputs": [
    {
     "name": "stdout",
     "output_type": "stream",
     "text": [
      "5050\n"
     ]
    }
   ],
   "source": [
    "# Find the sum of the first 100 natural numbers.\n",
    "sum = 0\n",
    "for i in range(1,101):\n",
    "    sum+=i\n",
    "print(sum)"
   ]
  },
  {
   "cell_type": "code",
   "execution_count": 65,
   "id": "25f98981-37e2-4e43-8004-32542c833002",
   "metadata": {},
   "outputs": [
    {
     "name": "stdout",
     "output_type": "stream",
     "text": [
      "120\n"
     ]
    }
   ],
   "source": [
    "# Find the factorial of a number.\n",
    "num = 5\n",
    "fact = 1\n",
    "for i in range(1,num+1):\n",
    "    fact*=i\n",
    "print(fact)"
   ]
  },
  {
   "cell_type": "code",
   "execution_count": 67,
   "id": "c792b968-43c1-4279-960a-b7f40deaed65",
   "metadata": {},
   "outputs": [
    {
     "name": "stdout",
     "output_type": "stream",
     "text": [
      "7 14 21 28 35 42 49 56 63 70 "
     ]
    }
   ],
   "source": [
    "# Print the multiplication table of a given number.\n",
    "n = 7\n",
    "for i in range(1,11):\n",
    "    print(n*i,end=\" \")"
   ]
  },
  {
   "cell_type": "code",
   "execution_count": 69,
   "id": "90218102-8ee5-4681-a397-b192591f5c3e",
   "metadata": {},
   "outputs": [
    {
     "name": "stdout",
     "output_type": "stream",
     "text": [
      "2550\n"
     ]
    }
   ],
   "source": [
    "# Find the sum of all even numbers between 1 and 100.\n",
    "Sum = 0\n",
    "for i in range(1,101):\n",
    "    if i%2 == 0:\n",
    "        Sum+=i\n",
    "print(Sum)"
   ]
  },
  {
   "cell_type": "code",
   "execution_count": 71,
   "id": "baf9aec6-5d1e-42e3-a7df-1b75e238871c",
   "metadata": {},
   "outputs": [
    {
     "name": "stdout",
     "output_type": "stream",
     "text": [
      "4\n"
     ]
    }
   ],
   "source": [
    "# Count the number of digits in a given number.\n",
    "num = 1514\n",
    "temp = num\n",
    "count = 0\n",
    "while temp>0:\n",
    "       temp = temp//10\n",
    "       count+=1\n",
    "print(count)"
   ]
  },
  {
   "cell_type": "code",
   "execution_count": 74,
   "id": "a0a0e3f4-913b-443c-b4dc-305736c46ef3",
   "metadata": {},
   "outputs": [
    {
     "name": "stdout",
     "output_type": "stream",
     "text": [
      "8\n"
     ]
    }
   ],
   "source": [
    "# Find the sum of digits of a number.\n",
    "num = 143\n",
    "temp = num\n",
    "Sum = 0\n",
    "while temp>0:\n",
    "    digit = temp%10\n",
    "    Sum+=digit\n",
    "    temp = temp//10\n",
    "print(Sum)"
   ]
  },
  {
   "cell_type": "code",
   "execution_count": 76,
   "id": "8e2a1ccc-c7a6-4f3f-a4c4-a363c1540c76",
   "metadata": {},
   "outputs": [
    {
     "name": "stdout",
     "output_type": "stream",
     "text": [
      "0 1 1 2 3 5 8 "
     ]
    }
   ],
   "source": [
    "# Generate the Fibonacci sequence up to n terms.\n",
    "n = 7\n",
    "a,b = 0,1\n",
    "for _ in range(n):\n",
    "    print(a,end=\" \")\n",
    "    a,b = b,a+b"
   ]
  },
  {
   "cell_type": "code",
   "execution_count": 77,
   "id": "955dcaa9-eb63-4504-a564-e10383f9ea35",
   "metadata": {},
   "outputs": [
    {
     "name": "stdout",
     "output_type": "stream",
     "text": [
      "5\n"
     ]
    }
   ],
   "source": [
    "# Take a string input and print its length.\n",
    "String = \"Suyog\"\n",
    "print(len(String))"
   ]
  },
  {
   "cell_type": "code",
   "execution_count": 82,
   "id": "32cfa7a6-6242-4a05-9e44-b4fa0c54f8b2",
   "metadata": {},
   "outputs": [
    {
     "name": "stdout",
     "output_type": "stream",
     "text": [
      "goyuS\n"
     ]
    }
   ],
   "source": [
    "# Reverse a string without using slicing.\n",
    "String = \"Suyog\"\n",
    "rev = \"\"\n",
    "for ch in String:\n",
    "    rev = ch + rev\n",
    "print(rev)"
   ]
  },
  {
   "cell_type": "code",
   "execution_count": 85,
   "id": "ca593a9b-f439-4c29-a093-3739a9b5af44",
   "metadata": {},
   "outputs": [
    {
     "name": "stdout",
     "output_type": "stream",
     "text": [
      "Palindrome\n"
     ]
    }
   ],
   "source": [
    "# Check whether a string is palindrome.\n",
    "Str = \"aba\"\n",
    "if Str == Str[::-1]:\n",
    "    print(\"Palindrome\")\n",
    "else:\n",
    "    print(\"Not a palindrome\")"
   ]
  },
  {
   "cell_type": "code",
   "execution_count": 89,
   "id": "ca6da899-4c59-429c-95ef-021c0529fe6c",
   "metadata": {},
   "outputs": [
    {
     "name": "stdout",
     "output_type": "stream",
     "text": [
      "4\n"
     ]
    }
   ],
   "source": [
    "# Count the number of vowels in a string.\n",
    "Str = \"hello suyog\"\n",
    "count = 0\n",
    "for i in Str:\n",
    "    if i in \"aeiouAEIOU\":\n",
    "        count+=1\n",
    "print(count)"
   ]
  },
  {
   "cell_type": "code",
   "execution_count": 90,
   "id": "a4391ede-efa8-4f5a-9a84-b339a898f619",
   "metadata": {},
   "outputs": [
    {
     "name": "stdout",
     "output_type": "stream",
     "text": [
      "abchello\n"
     ]
    }
   ],
   "source": [
    "# Concatenate two strings and print them\n",
    "Str1 = \"abc\"\n",
    "Str2 = \"hello\"\n",
    "conCat = Str1+Str2\n",
    "print(conCat)"
   ]
  },
  {
   "cell_type": "code",
   "execution_count": 92,
   "id": "09fb9274-1a06-443a-b061-57b6ae0b3a90",
   "metadata": {},
   "outputs": [
    {
     "name": "stdout",
     "output_type": "stream",
     "text": [
      "a\n",
      "e\n"
     ]
    }
   ],
   "source": [
    "# Extract the first and last character of a string.\n",
    "Str = \"abcde\"\n",
    "print(Str[0])\n",
    "print(Str[-1])"
   ]
  },
  {
   "cell_type": "code",
   "execution_count": 95,
   "id": "b7466300-4857-405e-92f5-c63e43ea9fd3",
   "metadata": {},
   "outputs": [
    {
     "name": "stdout",
     "output_type": "stream",
     "text": [
      "<class 'int'>\n",
      "<class 'str'>\n"
     ]
    }
   ],
   "source": [
    "# Convert an integer to string and string to integer\n",
    "int_value = 10\n",
    "str_value = str(int_value)\n",
    "print(type(int_value))\n",
    "print(type(str_value))"
   ]
  },
  {
   "cell_type": "code",
   "execution_count": 98,
   "id": "b461dd1d-5f23-488d-a768-3f5333340755",
   "metadata": {},
   "outputs": [
    {
     "name": "stdout",
     "output_type": "stream",
     "text": [
      "hello_Suyog_How_are_You\n"
     ]
    }
   ],
   "source": [
    "# Replace all spaces in a string with underscores.\n",
    "Str = \"hello Suyog How are You\"\n",
    "for i in Str:\n",
    "    Str = Str.replace(\" \",'_')\n",
    "print(Str)"
   ]
  },
  {
   "cell_type": "code",
   "execution_count": 101,
   "id": "aa7f66b3-ae59-4d8e-90ca-74b4f11436c9",
   "metadata": {},
   "outputs": [
    {
     "name": "stdout",
     "output_type": "stream",
     "text": [
      "HELLO\n"
     ]
    }
   ],
   "source": [
    "# Convert a string to uppercase without using .upper()\n",
    "String = \"hello\"\n",
    "result = \"\"\n",
    "for ch in String:\n",
    "    if 'a'<=ch<='z':\n",
    "        result+= chr(ord(ch)-32)\n",
    "print(result)"
   ]
  },
  {
   "cell_type": "code",
   "execution_count": 105,
   "id": "11f0e893-75bc-4551-b264-a1630bc8c862",
   "metadata": {},
   "outputs": [
    {
     "name": "stdout",
     "output_type": "stream",
     "text": [
      "97\n"
     ]
    }
   ],
   "source": [
    "# Print the ASCII value of a character\n",
    "char = \"a\"\n",
    "print(ord(char))"
   ]
  },
  {
   "cell_type": "code",
   "execution_count": 108,
   "id": "65aaae6c-741a-4636-a0c7-84d1af04203d",
   "metadata": {},
   "outputs": [
    {
     "name": "stdout",
     "output_type": "stream",
     "text": [
      "GCD is: 6\n",
      "LCM is: 216\n"
     ]
    }
   ],
   "source": [
    "# GCD and LCM\n",
    "a = 54\n",
    "b = 24\n",
    "\n",
    "# Store original values (since a and b will change in GCD calculation)\n",
    "x, y = a, b\n",
    "\n",
    "# Euclidean algorithm for GCD\n",
    "while b != 0:\n",
    "    a, b = b, a % b\n",
    "\n",
    "gcd = a\n",
    "lcm = (x * y) // gcd\n",
    "\n",
    "print(\"GCD is:\", gcd)\n",
    "print(\"LCM is:\", lcm)\n"
   ]
  },
  {
   "cell_type": "code",
   "execution_count": 112,
   "id": "ad9cbcfc-26f3-42a3-886a-bf3692fa1d9d",
   "metadata": {},
   "outputs": [
    {
     "name": "stdout",
     "output_type": "stream",
     "text": [
      "Perfect\n"
     ]
    }
   ],
   "source": [
    "# perfect number\n",
    "num = 28\n",
    "Sum = 0\n",
    "for i in range(1,num):\n",
    "    if num%i == 0:\n",
    "        Sum+=i\n",
    "if Sum == num:\n",
    "    print(\"Perfect\")\n",
    "else:\n",
    "    print(\"not perfect\")"
   ]
  }
 ],
 "metadata": {
  "kernelspec": {
   "display_name": "Python 3 (ipykernel)",
   "language": "python",
   "name": "python3"
  },
  "language_info": {
   "codemirror_mode": {
    "name": "ipython",
    "version": 3
   },
   "file_extension": ".py",
   "mimetype": "text/x-python",
   "name": "python",
   "nbconvert_exporter": "python",
   "pygments_lexer": "ipython3",
   "version": "3.12.10"
  }
 },
 "nbformat": 4,
 "nbformat_minor": 5
}
